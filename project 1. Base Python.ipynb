{
 "cells": [
  {
   "cell_type": "markdown",
   "id": "fffcbb2c-4423-4f1c-bc90-e1ac7fbaa456",
   "metadata": {},
   "source": [
    "# Задания "
   ]
  },
  {
   "cell_type": "markdown",
   "id": "c2d747fe-7b74-43e0-95b3-16525e9846ac",
   "metadata": {},
   "source": [
    "## Task 1"
   ]
  },
  {
   "cell_type": "markdown",
   "id": "2e2f1076-fd27-4222-95e9-d3b7ff8ff36a",
   "metadata": {},
   "source": [
    "Напиши код, который будет решать квадратное уравнение вида\n",
    "$ ax^2 + bx + c = 0, a\\neq0$. \\\n",
    "Для этого понадобится найти дискриминант. Его формула $ D = b^2 − 4ac $"
   ]
  },
  {
   "cell_type": "markdown",
   "id": "20bf557b-21f9-46fa-b8db-76b7a96526f4",
   "metadata": {},
   "source": [
    "Для начала напиши формулу нахождения корней квадратного уравнения на языке LaTeX\n",
    "\n",
    "To find a quadratic root we have to know discriminant (D)\n",
    "\n",
    "$ D=b^2-4ac $\n",
    "\n",
    "If D>0\n",
    "\n",
    "$ x1 = \\frac{-b-\\sqrt{D}}{2a} $\n",
    "$ x2 = \\frac{-b+\\sqrt{D}}{2a} $\n",
    "\n",
    "If D=0\n",
    "\n",
    "$ x1 = x2= \\frac{-b}{2a} $\n",
    "\n",
    "If D<0 there is no value for x"
   ]
  },
  {
   "cell_type": "markdown",
   "id": "c78b058d-777d-4369-b86d-0c0fc013eba9",
   "metadata": {},
   "source": [
    "Теперь, когда ты вспомнил как находить корни, приступай к написанию функции:\n",
    "- Функция принимает на вход коэффициент a, b, c.\n",
    "- Функция должна возвращать кортеж корней уравнения. \n",
    "- Если корней у уравнения нет, то функция должна вернуть None"
   ]
  },
  {
   "cell_type": "code",
   "execution_count": 1,
   "id": "03b8b371-870b-42cc-8f53-1e8596406894",
   "metadata": {},
   "outputs": [
    {
     "name": "stdout",
     "output_type": "stream",
     "text": [
      "Введите значение a: 5\n",
      "Введите значение b: 13\n",
      "Введите значение c: 4\n",
      "Корни уравнения: x1 = -0.36, x2 = -2.24\n"
     ]
    }
   ],
   "source": [
    "a = float(input('Введите значение a: '))\n",
    "b = float(input('Введите значение b: '))\n",
    "c = float(input('Введите значение c: '))\n",
    "\n",
    "def quadratic_equation(a, b, c):\n",
    "     while True:\n",
    "        if a != 0:\n",
    "            disc = b**2 - 4*a*c\n",
    "            if disc > 0:\n",
    "                from math import sqrt\n",
    "                x1 = (-b + sqrt(disc)) / (2*a)\n",
    "                x2 = (-b - sqrt(disc)) / (2*a)\n",
    "                return x1, x2\n",
    "            elif disc == 0:\n",
    "                x1 = -b / (2*a)\n",
    "                return x1\n",
    "            else:\n",
    "                return None\n",
    "            continue\n",
    "        else:\n",
    "            print(\"Коэффциент a не может быть равен 0\")       \n",
    "            break\n",
    "            \n",
    "            \n",
    "result = quadratic_equation(a, b, c)\n",
    "if result is None:\n",
    "    print(\"Уравнение не имеет действительных корней\")\n",
    "elif isinstance(result, tuple):\n",
    "    print(f\"Корни уравнения: x1 = {round(result[0], 2)}, x2 = {round(result[1], 2)}\")\n",
    "else:\n",
    "    print(f\"Корень уравнения: x = {round(result, 2)}\")\n",
    "\n",
    "    \n",
    "pass"
   ]
  },
  {
   "cell_type": "markdown",
   "id": "a8541146-f127-4482-b067-279d50975dac",
   "metadata": {},
   "source": [
    "## Task 2"
   ]
  },
  {
   "cell_type": "markdown",
   "id": "816c48be-0963-4bd6-bd86-c8172eb8968e",
   "metadata": {},
   "source": [
    "Функция, которая на вход принимает cписок случайных чисел, а возвращает уже отсортированный методом Пузырька по возрастанию."
   ]
  },
  {
   "cell_type": "code",
   "execution_count": 2,
   "id": "3fbaf6b3-876f-4ecf-9be6-d26181ee3a48",
   "metadata": {},
   "outputs": [
    {
     "name": "stdout",
     "output_type": "stream",
     "text": [
      "Список случайных чисел:  [30, 42, 21, 34, 6, 39, 49, 3, 20, 37]\n",
      "Отсортированный список по возрастанию [3, 6, 20, 21, 30, 34, 37, 39, 42, 49]\n"
     ]
    }
   ],
   "source": [
    "import random\n",
    "\n",
    "\n",
    "lst = random.sample(range(1, 50), 10)\n",
    "print('Список случайных чисел: ', lst)\n",
    "\n",
    "\n",
    "def bubble_sort(lst):\n",
    "    n = len(lst)\n",
    "    for i in range(n):\n",
    "        for j in range(0, n-i-1):\n",
    "            if lst[j] > lst[j+1]:\n",
    "                lst[j], lst[j+1] = lst[j+1], lst[j]\n",
    "\n",
    "\n",
    "bubble_sort(lst)\n",
    "print('Отсортированный список по возрастанию', lst)\n",
    "\n",
    "\n",
    "pass"
   ]
  },
  {
   "cell_type": "markdown",
   "id": "0026496c-03a8-4fcc-907b-dfb8f3fc0efb",
   "metadata": {},
   "source": [
    "## Task 3"
   ]
  },
  {
   "cell_type": "markdown",
   "id": "688251be-39a3-49ed-9993-a5f9b39f430d",
   "metadata": {},
   "source": [
    "Самое часто встречающееся слово в романе \"Война и Мир\" без учета:\n",
    "   * Пунктуации\n",
    "   * Слов **короче четырех** символов \n",
    "   * 'Стоп-слов', которые приведены в файле в stop_words_russian.txt\n",
    "   \n",
    ">Для решения задачи достаточно использовать стандартные библиотеки Python. \\\n",
    "\n",
    ">Обязательно поделись с пирами в rocket-chat сколько раз у тебя встретилось это слово. Результаты, в зависимости от предобработки, могут чуть отличаться."
   ]
  },
  {
   "cell_type": "code",
   "execution_count": 3,
   "id": "94501d71-ee88-4f78-808d-20e79a5f3707",
   "metadata": {},
   "outputs": [
    {
     "name": "stdout",
     "output_type": "stream",
     "text": [
      "Самое часто встречающееся слово в романе \"Война и мир\":  пьер\n",
      "Встречается:  1401 раз\n"
     ]
    }
   ],
   "source": [
    "import string\n",
    "\n",
    "\n",
    "with open('war_and_peace.txt', 'r', encoding='utf-8') as f:\n",
    "    text = f.read().lower()\n",
    "    \n",
    "with open('stop_words_russian.txt', 'r', encoding='utf-8') as f:\n",
    "    stop_words = f.read().split()\n",
    "\n",
    "for p in string.punctuation:\n",
    "    text = text.replace(p, '')\n",
    "    words = text.split()\n",
    "    words = [word for word in words if len(word) >= 4 and word not in stop_words]\n",
    "    word_count = {}\n",
    "                \n",
    "for word in words:\n",
    "    if word in word_count:\n",
    "        word_count[word] += 1\n",
    "    else:\n",
    "        word_count[word] = 1\n",
    "\n",
    "most_common_word = max(word_count, key = word_count.get)\n",
    "\n",
    "print('Самое часто встречающееся слово в романе \"Война и мир\": ', most_common_word)\n",
    "print('Встречается: ', word_count[most_common_word], 'раз')\n",
    "                \n",
    "                \n",
    "pass"
   ]
  },
  {
   "cell_type": "markdown",
   "id": "d4b6f922-7a22-4b38-8529-c92994edd38c",
   "metadata": {},
   "source": [
    "## Task 4"
   ]
  },
  {
   "cell_type": "markdown",
   "id": "c2cef602-ab87-47f8-ab2c-e323442b62f7",
   "metadata": {},
   "source": [
    "Функция для расчета числа Фибоначчи с использованием рекурсивной функции."
   ]
  },
  {
   "cell_type": "code",
   "execution_count": null,
   "id": "ec1c1860-774d-4583-a44b-bdc30492eead",
   "metadata": {},
   "outputs": [],
   "source": [
    "def fib(n):\n",
    "    if (n <= 1):\n",
    "        return n\n",
    "    else:\n",
    "        return (fib(n-1) + fib(n-2))\n",
    "n = int(input(\"Введите число членов последовательности:\"))\n",
    "print(\"Последовательность Фибоначчи:\")\n",
    "for i in range(n):\n",
    "    print(fib(i))\n",
    "    \n",
    "    \n",
    "pass"
   ]
  },
  {
   "cell_type": "markdown",
   "id": "1acc3069-4b1a-4a5c-98e4-055731203d2d",
   "metadata": {},
   "source": [
    "## Task 5"
   ]
  },
  {
   "cell_type": "markdown",
   "id": "944e804e-fb40-4ea2-b931-38b595d3c262",
   "metadata": {},
   "source": [
    "Функция перевода валюты в рубли."
   ]
  },
  {
   "cell_type": "code",
   "execution_count": null,
   "id": "570cfb71-5cf0-41fc-aae7-cf2b2812eaca",
   "metadata": {},
   "outputs": [],
   "source": [
    "import requests\n",
    "def convert2RU(currency, value):\n",
    "    req = requests.get('https://www.cbr-xml-daily.ru/daily_json.js').json()\n",
    "    if currency in req['Valute']:\n",
    "        return req['Valute'][currency]['Value'] * value\n",
    "\n",
    "    \n",
    "print(f\"USD = {round(convert2RU('USD', 100), 2)}\")\n",
    "print(f\"EUR = {round(convert2RU('EUR', 100), 2)}\")\n",
    "print(f\"GBP = {round(convert2RU('GBP', 100), 2)}\")\n",
    "\n",
    "\n",
    "pass"
   ]
  },
  {
   "cell_type": "markdown",
   "id": "fe1396fa-7109-48ad-a255-4d4f622c18a4",
   "metadata": {},
   "source": [
    "## *Task 6. Дополнительное задание"
   ]
  },
  {
   "cell_type": "markdown",
   "id": "71315701-39bd-4759-afd9-7bf20486b4f7",
   "metadata": {},
   "source": [
    "Написание проверки на пaлиндром."
   ]
  },
  {
   "cell_type": "markdown",
   "id": "715fd45b-eb76-4eb5-bbd8-a257035fe892",
   "metadata": {},
   "source": [
    "1. На вход функции _isPalindrome_ подается **число** (int). \\\n",
    "Функция возвращает **True**, если число является палидромом и **False** в противном случае. "
   ]
  },
  {
   "cell_type": "code",
   "execution_count": null,
   "id": "9f48d9c7-c413-47fb-b692-ce5ad8ed9ec1",
   "metadata": {},
   "outputs": [],
   "source": [
    "x = int(input('Введите число: '))\n",
    "\n",
    "\n",
    "def isPalindrome(x: int) -> bool:\n",
    "    if x < 0:\n",
    "        return False\n",
    "    \n",
    "    return str(x) == str(x)[::-1]\n",
    "\n",
    "print(isPalindrome(x))\n",
    "\n",
    "\n",
    "pass"
   ]
  },
  {
   "cell_type": "markdown",
   "id": "e86f6f7c-c3b0-4b92-bb3d-651dcc7d4706",
   "metadata": {},
   "source": [
    "2. Реализация функции без использования перевода числа в строку."
   ]
  },
  {
   "cell_type": "code",
   "execution_count": null,
   "id": "35cf92fa-04c6-489b-9523-99d78dce4ba1",
   "metadata": {},
   "outputs": [],
   "source": [
    "x = int(input('Введите число: '))\n",
    "    \n",
    "def isPalindrome_v2(x: int) -> bool:\n",
    "    if x<0:\n",
    "        return False\n",
    "\n",
    "    inputNum = x\n",
    "    newNum = 0\n",
    "    while x>0:\n",
    "        newNum = newNum * 10 + x%10\n",
    "        x = x//10\n",
    "    return newNum == inputNum\n",
    "\n",
    "print(isPalindrome_v2(x))\n",
    "    \n",
    "    \n",
    "pass"
   ]
  }
 ],
 "metadata": {
  "kernelspec": {
   "display_name": "Python 3 (ipykernel)",
   "language": "python",
   "name": "python3"
  },
  "language_info": {
   "codemirror_mode": {
    "name": "ipython",
    "version": 3
   },
   "file_extension": ".py",
   "mimetype": "text/x-python",
   "name": "python",
   "nbconvert_exporter": "python",
   "pygments_lexer": "ipython3",
   "version": "3.10.9"
  }
 },
 "nbformat": 4,
 "nbformat_minor": 5
}
