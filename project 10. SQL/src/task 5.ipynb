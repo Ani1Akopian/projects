{
 "cells": [
  {
   "cell_type": "code",
   "execution_count": 1,
   "id": "2642bcc8",
   "metadata": {},
   "outputs": [],
   "source": [
    "import pandas as pd\n",
    "from pandas import DataFrame\n",
    "import sqlite3"
   ]
  },
  {
   "cell_type": "code",
   "execution_count": 2,
   "id": "06bd6978",
   "metadata": {},
   "outputs": [],
   "source": [
    "conn = sqlite3.connect('./data/checking-logs.sqlite')"
   ]
  },
  {
   "cell_type": "code",
   "execution_count": 3,
   "id": "63e09c68",
   "metadata": {},
   "outputs": [
    {
     "data": {
      "text/html": [
       "<div>\n",
       "<style scoped>\n",
       "    .dataframe tbody tr th:only-of-type {\n",
       "        vertical-align: middle;\n",
       "    }\n",
       "\n",
       "    .dataframe tbody tr th {\n",
       "        vertical-align: top;\n",
       "    }\n",
       "\n",
       "    .dataframe thead th {\n",
       "        text-align: right;\n",
       "    }\n",
       "</style>\n",
       "<table border=\"1\" class=\"dataframe\">\n",
       "  <thead>\n",
       "    <tr style=\"text-align: right;\">\n",
       "      <th></th>\n",
       "      <th>time</th>\n",
       "      <th>avg_diff</th>\n",
       "    </tr>\n",
       "  </thead>\n",
       "  <tbody>\n",
       "    <tr>\n",
       "      <th>0</th>\n",
       "      <td>after</td>\n",
       "      <td>-99.523810</td>\n",
       "    </tr>\n",
       "    <tr>\n",
       "      <th>1</th>\n",
       "      <td>before</td>\n",
       "      <td>-66.047619</td>\n",
       "    </tr>\n",
       "  </tbody>\n",
       "</table>\n",
       "</div>"
      ],
      "text/plain": [
       "     time   avg_diff\n",
       "0   after -99.523810\n",
       "1  before -66.047619"
      ]
     },
     "execution_count": 3,
     "metadata": {},
     "output_type": "execute_result"
    }
   ],
   "source": [
    "test_results = pd.io.sql.read_sql(''' SELECT time, AVG(diff) as avg_diff\n",
    "FROM (\n",
    "SELECT uid, labname, AVG((strftime('%s', first_commit_ts) - deadlines)/3600) as diff,\n",
    "CASE\n",
    "    WHEN ((strftime('%s', first_commit_ts)) - strftime('%s', first_view_ts))>0\n",
    "        THEN 'after'\n",
    "    ELSE 'before'\n",
    "END AS time\n",
    "FROM test\n",
    "LEFT JOIN deadlines\n",
    "ON labname = labs\n",
    "WHERE labname NOT IN ('project1')\n",
    "GROUP BY uid, time\n",
    ")\n",
    "WHERE uid IN\n",
    "(\n",
    " SELECT uid FROM\n",
    "(SELECT uid,\n",
    "\n",
    "CASE\n",
    "    WHEN ((strftime('%s', first_commit_ts)) - strftime('%s', first_view_ts))>0\n",
    "        THEN 'after'\n",
    "    ELSE 'before'\n",
    "END AS time\n",
    "FROM test\n",
    "WHERE labname NOT IN ('project1')\n",
    "GROUP BY uid, time)\n",
    "GROUP BY uid\n",
    "HAVING COUNT(uid)==2\n",
    ")\n",
    "GROUP BY time\n",
    "''', conn)\n",
    "test_results"
   ]
  },
  {
   "cell_type": "code",
   "execution_count": 4,
   "id": "95429566",
   "metadata": {},
   "outputs": [
    {
     "data": {
      "text/html": [
       "<div>\n",
       "<style scoped>\n",
       "    .dataframe tbody tr th:only-of-type {\n",
       "        vertical-align: middle;\n",
       "    }\n",
       "\n",
       "    .dataframe tbody tr th {\n",
       "        vertical-align: top;\n",
       "    }\n",
       "\n",
       "    .dataframe thead th {\n",
       "        text-align: right;\n",
       "    }\n",
       "</style>\n",
       "<table border=\"1\" class=\"dataframe\">\n",
       "  <thead>\n",
       "    <tr style=\"text-align: right;\">\n",
       "      <th></th>\n",
       "      <th>time</th>\n",
       "      <th>avg_diff</th>\n",
       "    </tr>\n",
       "  </thead>\n",
       "  <tbody>\n",
       "    <tr>\n",
       "      <th>0</th>\n",
       "      <td>after</td>\n",
       "      <td>-99.322222</td>\n",
       "    </tr>\n",
       "    <tr>\n",
       "      <th>1</th>\n",
       "      <td>before</td>\n",
       "      <td>-98.033333</td>\n",
       "    </tr>\n",
       "  </tbody>\n",
       "</table>\n",
       "</div>"
      ],
      "text/plain": [
       "     time   avg_diff\n",
       "0   after -99.322222\n",
       "1  before -98.033333"
      ]
     },
     "execution_count": 4,
     "metadata": {},
     "output_type": "execute_result"
    }
   ],
   "source": [
    "control_results = pd.io.sql.read_sql(''' SELECT time, AVG(diff) as avg_diff\n",
    "FROM (\n",
    "SELECT uid, labname, AVG((strftime('%s', first_commit_ts) - deadlines)/3600) as diff,\n",
    "CASE\n",
    "    WHEN ((strftime('%s', first_commit_ts)) - strftime('%s', first_view_ts))>0\n",
    "        THEN 'after'\n",
    "    ELSE 'before'\n",
    "END AS time\n",
    "FROM control\n",
    "LEFT JOIN deadlines\n",
    "ON labname = labs\n",
    "WHERE labname NOT IN ('project1')\n",
    "GROUP BY uid, time\n",
    ")\n",
    "WHERE uid IN\n",
    "(\n",
    " SELECT uid FROM\n",
    "(SELECT uid,\n",
    "CASE\n",
    "    WHEN ((strftime('%s', first_commit_ts)) - strftime('%s', first_view_ts))>0\n",
    "        THEN 'after'\n",
    "    ELSE 'before'\n",
    "END AS time\n",
    "FROM control\n",
    "WHERE labname NOT IN ('project1')\n",
    "GROUP BY uid, time)\n",
    "GROUP BY uid\n",
    "HAVING COUNT(uid)==2\n",
    ")\n",
    "GROUP BY time\n",
    "''', conn)\n",
    "control_results"
   ]
  },
  {
   "cell_type": "code",
   "execution_count": 5,
   "id": "af62aac0",
   "metadata": {},
   "outputs": [],
   "source": [
    "# Предположение оказалось верным и наличие страницы с новостной лентой влияет на поведение учащихся, \n",
    "# так как в тестовой группе есть различие, а в контрольной нет"
   ]
  },
  {
   "cell_type": "code",
   "execution_count": 6,
   "id": "401a9f46",
   "metadata": {},
   "outputs": [],
   "source": [
    "conn.close()"
   ]
  }
 ],
 "metadata": {
  "kernelspec": {
   "display_name": "Python 3 (ipykernel)",
   "language": "python",
   "name": "python3"
  },
  "language_info": {
   "codemirror_mode": {
    "name": "ipython",
    "version": 3
   },
   "file_extension": ".py",
   "mimetype": "text/x-python",
   "name": "python",
   "nbconvert_exporter": "python",
   "pygments_lexer": "ipython3",
   "version": "3.11.4"
  }
 },
 "nbformat": 4,
 "nbformat_minor": 5
}
